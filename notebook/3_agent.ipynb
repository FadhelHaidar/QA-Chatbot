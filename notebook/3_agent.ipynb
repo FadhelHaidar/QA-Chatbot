{
 "cells": [
  {
   "cell_type": "code",
   "execution_count": 1,
   "id": "39532b7d",
   "metadata": {},
   "outputs": [],
   "source": [
    "import sys\n",
    "sys.path.append(\"../\")"
   ]
  },
  {
   "cell_type": "code",
   "execution_count": 11,
   "id": "84961197",
   "metadata": {},
   "outputs": [],
   "source": [
    "from langgraph.prebuilt import create_react_agent\n",
    "from langchain_core.tools import tool\n",
    "\n",
    "from app.config import get_llm, get_embeddings, get_vector_store, get_vanna"
   ]
  },
  {
   "cell_type": "code",
   "execution_count": 12,
   "id": "3df674ad",
   "metadata": {},
   "outputs": [],
   "source": [
    "llm = get_llm()\n",
    "embedding = get_embeddings()\n",
    "vector_store = get_vector_store()\n",
    "vanna = get_vanna()"
   ]
  },
  {
   "cell_type": "code",
   "execution_count": 5,
   "id": "14bd4a8f",
   "metadata": {},
   "outputs": [
    {
     "data": {
      "text/plain": [
       "AIMessage(content=\"I'm just a language model, so I don't have feelings or emotions like humans do, but I'm functioning properly and ready to help with any questions or tasks you have! How can I assist you today?\", additional_kwargs={}, response_metadata={'token_usage': {'completion_tokens': 41, 'prompt_tokens': 16, 'total_tokens': 57, 'completion_time': 0.043815231, 'prompt_time': 0.000225337, 'queue_time': 0.054766923, 'total_time': 0.044040568}, 'model_name': 'meta-llama/llama-4-maverick-17b-128e-instruct', 'system_fingerprint': 'fp_c527aa4474', 'service_tier': 'on_demand', 'finish_reason': 'stop', 'logprobs': None}, id='run--f007b8e7-159c-4967-bcd8-2be08b651446-0', usage_metadata={'input_tokens': 16, 'output_tokens': 41, 'total_tokens': 57})"
      ]
     },
     "execution_count": 5,
     "metadata": {},
     "output_type": "execute_result"
    }
   ],
   "source": [
    "llm.invoke(\"Hello, how are you?\")"
   ]
  },
  {
   "cell_type": "code",
   "execution_count": 6,
   "id": "e017f5ac",
   "metadata": {},
   "outputs": [
    {
     "data": {
      "text/plain": [
       "[Document(metadata={'source': '..\\\\data\\\\txt\\\\Understanding Credit Cards Fraud.txt', '_id': '516965eb-da60-4e81-a433-f245b16001b5', '_collection_name': 'my_documents'}, page_content='**OVERVIEW\\n\\n**\\n\\nINTRODUCTION .......................................................1\\n\\nPURPOSE OF THIS PAPER...........................................1\\n\\nCURRENT STATE OF THE INDUSTRY..............................2\\n\\nHOW FRAUD IS COMMITTED WORLDWIDE?......................2\\n\\n**FRAUD TECHNIQUES\\n\\n**.......................................................3\\n\\nCARD RELATED FRAUDS.............................................4\\n\\nAPPLICATION FRAUD...............................................4\\n\\nLOST/STOLEN CARDS..................................................4\\n\\nACCOUNT TAKEOVER................................................4\\n\\nFAKE AND COUNTERFEIT CARDS...............................4\\n\\nMERCHANT RELATED FRAUDS......................................5\\n\\nMERCHANT COLLUSION.............................................5\\n\\nTRIANGULATION........................................................5\\n\\nINTERNET RELATED FRAUDS........................................5\\n\\n**IMPACT OF CREDIT CARD FRAUDS\\n\\n**..................................6'),\n",
       " Document(metadata={'source': '..\\\\data\\\\txt\\\\Understanding Credit Cards Fraud.txt', '_id': 'e8bead1e-730b-4223-8cac-55375db851ab', '_collection_name': 'my_documents'}, page_content='Illegal or unauthorized use of an account for personal gain.\\n\\nMisrepresentation of account information to obtain goods and/or services.\\n\\n**Purpose of this Paper\\n\\n**\\n\\nThe purpose of this white paper is to study:\\n\\nThe state of the credit card industry.\\n\\nDifferent types of frauds.\\n\\nHow fraudsters attempt to take advantage of loopholes.\\n\\nThe impact of credit card fraud on cardholders, merchants, issuers.\\n\\nHow a comprehensive fraud detection system could help maintain the cost of detecting fraud.\\n\\nLosses due to fraud, under manageable levels.'),\n",
       " Document(metadata={'source': '..\\\\data\\\\txt\\\\Understanding Credit Cards Fraud.txt', '_id': '31dd4555-81c0-43ed-a7d2-fdb9039f02b8', '_collection_name': 'my_documents'}, page_content='It also highlights the advantages of using neural networks, such as their ability to learn from past data and improve results over time.\\n\\nSection 3: Biometrics**\\n\\nThis section introduces biometrics as a fraud prevention technique that records unique characteristics of cardholders, such as fingerprints or signatures.\\n\\nIt explains how biometrics can be used to verify the identity of cardholders and prevent fraudulent transactions.'),\n",
       " Document(metadata={'source': '..\\\\data\\\\txt\\\\Understanding Credit Cards Fraud.txt', '_id': '17371ac5-7279-4b25-a07d-7ffc93de3aaa', '_collection_name': 'my_documents'}, page_content='Table 1 summarizes the modus operandi for credit card frauds and their percentage of occurrence.\\n\\nMethod: Lost or stolen card\\n\\nPercentage: 48%\\n\\nMethod: Identity theft\\n\\nPercentage: 15%\\n\\nMethod: Skimming (or cloning)\\n\\nPercentage: 14%\\n\\nMethod: Counterfeit card\\n\\nPercentage: 12%\\n\\nMethod: Mail intercept fraud\\n\\nPercentage: 6%\\n\\nMethod: Other\\n\\nPercentage: 5%\\n\\nAmongst the high risk countries facing Credit Card Fraud menace, Ukraine tops the list with staggering 19% fraud rate closely followed by Indonesia at 18.3% fraud rate.\\n\\nAlso in the list of high risk countries are Yugoslavia (17.8%), Turkey (9%) and Malaysia (5.9%).\\n\\nSurprisingly United States, with its high number Credit Card transactions, has a minimum fraud rate.'),\n",
       " Document(metadata={'source': '..\\\\data\\\\txt\\\\Understanding Credit Cards Fraud.txt', '_id': '2e62828b-5124-49d2-95d6-8883f4e51193', '_collection_name': 'my_documents'}, page_content='**TRIANGULATION\\n\\n**: The fraudster in this type of fraud operates from a web site. Goods are offered at heavily discounted rates and are also shipped before payment. The fraudulent site appears to be a legitimate auction or a traditional sales site. The customer while placing orders online provides information such as name, address, and valid credit card details to the site. Once fraudsters receive these details, they order goods from a legitimate site using stolen credit card details. The fraudster then goes on to purchase other goods using the credit card numbers of the customer. This process is designed to cause a great deal of initial confusion, and the fraudulent internet company can in this manner operate long enough to accumulate vast amounts of goods purchased with stolen credit card numbers.\\n\\n**Internet Related Frauds\\n\\n**: The Internet has provided an ideal ground for fraudsters to commit credit card fraud in an easy manner. Fraudsters have recently begun to operate on a truly transnational basis.')]"
      ]
     },
     "execution_count": 6,
     "metadata": {},
     "output_type": "execute_result"
    }
   ],
   "source": [
    "vector_store.similarity_search(\"how fraud is committed worldwide?\", k=5)"
   ]
  },
  {
   "cell_type": "code",
   "execution_count": 14,
   "id": "d2e4bab0",
   "metadata": {},
   "outputs": [
    {
     "name": "stdout",
     "output_type": "stream",
     "text": [
      "SQL Prompt: [{'role': 'system', 'content': 'You are a PostgreSQL expert. Please help to generate a SQL query to answer the question. Your response should ONLY be based on the given context and follow the response guidelines and format instructions. \\n===Tables \\n\\nCREATE TABLE public.fraud_data (\\n\\ttrans_date_trans_time timestamp NULL,\\n\\tcc_num int8 NULL,\\n\\tmerchant text NULL,\\n\\tcategory text NULL,\\n\\tamt float8 NULL,\\n\\t\"first\" text NULL,\\n\\t\"last\" text NULL,\\n\\tgender text NULL,\\n\\tstreet text NULL,\\n\\tcity text NULL,\\n\\tstate text NULL,\\n\\tzip int8 NULL,\\n\\tlat float8 NULL,\\n\\tlong float8 NULL,\\n\\tcity_pop int8 NULL,\\n\\tjob text NULL,\\n\\tdob text NULL,\\n\\ttrans_num text NULL,\\n\\tunix_time int8 NULL,\\n\\tmerch_lat float8 NULL,\\n\\tmerch_long float8 NULL,\\n\\tis_fraud bool NULL\\n)\\n\\n\\n\\n===Additional Context \\n\\nThis is a simulated credit card transaction dataset containing legitimate and fraud transactions from the duration 1st Jan 2019 - 31st Dec 2020. It covers credit cards of 1000 customers doing transactions with a pool of 800 merchants.\\n\\n===Response Guidelines \\n1. If the provided context is sufficient, please generate a valid SQL query without any explanations for the question. \\n2. If the provided context is almost sufficient but requires knowledge of a specific string in a particular column, please generate an intermediate SQL query to find the distinct strings in that column. Prepend the query with a comment saying intermediate_sql \\n3. If the provided context is insufficient, please explain why it can\\'t be generated. \\n4. Please use the most relevant table(s). \\n5. If the question has been asked and answered before, please repeat the answer exactly as it was given before. \\n6. Ensure that the output SQL is PostgreSQL-compliant and executable, and free of syntax errors. \\n'}, {'role': 'user', 'content': 'What is the monthly fraud rate over the last two years?'}, {'role': 'assistant', 'content': \"\\n            WITH bounds AS (\\n                SELECT (MAX(trans_date_trans_time) - INTERVAL '2 years') AS start_dt\\n                FROM public.fraud_data\\n            )\\n            SELECT date_trunc('month', trans_date_trans_time)::date AS month,\\n                COUNT(*) AS n_tx,\\n                SUM((is_fraud)::int) AS fraud_tx,\\n                AVG((is_fraud)::int)::numeric(10,4) AS fraud_rate\\n            FROM public.fraud_data f\\n            JOIN bounds b ON f.trans_date_trans_time >= b.start_dt\\n            GROUP BY 1\\n            ORDER BY 1;\\n        \"}, {'role': 'user', 'content': 'What is the monthly fraud rate over the last two years?'}, {'role': 'assistant', 'content': \"WITH bounds AS (\\n                SELECT (MAX(trans_date_trans_time) - INTERVAL '2 years') AS start_dt\\n                FROM public.fraud_data\\n            )\\n            SELECT date_trunc('month', trans_date_trans_time)::date AS month,\\n                COUNT(*) AS n_tx,\\n                SUM((is_fraud)::int) AS fraud_tx,\\n                AVG((is_fraud)::int)::numeric(10,4) AS fraud_rate\\n            FROM public.fraud_data f\\n            JOIN bounds b ON f.trans_date_trans_time >= b.start_dt\\n            GROUP BY 1\\n            ORDER BY 1;\"}, {'role': 'user', 'content': 'What is the daily fraud rate over the last two years?'}, {'role': 'assistant', 'content': \"\\n            WITH bounds AS (\\n                SELECT (MAX(trans_date_trans_time) - INTERVAL '2 years') AS start_dt\\n                FROM public.fraud_data\\n            )\\n            SELECT date_trunc('day', trans_date_trans_time)::date AS day,\\n                COUNT(*) AS n_tx,\\n                AVG((is_fraud)::int)::numeric(10,4) AS fraud_rate\\n            FROM public.fraud_data f\\n            JOIN bounds b ON f.trans_date_trans_time >= b.start_dt\\n            GROUP BY 1\\n            ORDER BY 1;\\n        \"}, {'role': 'user', 'content': 'What is the overall fraud rate?'}, {'role': 'assistant', 'content': '\\n            SELECT AVG((is_fraud)::int)::numeric(10,4) AS fraud_rate\\n            FROM public.fraud_data;\\n        '}, {'role': 'user', 'content': 'Which merchant categories have the highest fraud rate?'}, {'role': 'assistant', 'content': '\\n            SELECT category,\\n                   COUNT(*) AS n_tx,\\n                   AVG((is_fraud)::int) AS fraud_rate\\n            FROM public.fraud_data\\n            GROUP BY category\\n            HAVING COUNT(*) >= 1000\\n            ORDER BY fraud_rate DESC\\n            LIMIT 20;\\n        '}, {'role': 'user', 'content': 'How much higher are fraud rates when the transaction counterpart is located far away (proxy for outside EEA)?'}, {'role': 'assistant', 'content': \"\\n            WITH dist AS (\\n              SELECT is_fraud,\\n                     6371 * acos(\\n                       cos(radians(lat)) * cos(radians(merch_lat)) *\\n                       cos(radians(merch_long) - radians(long)) +\\n                       sin(radians(lat)) * sin(radians(merch_lat))\\n                     ) AS km\\n              FROM public.fraud_data\\n              WHERE lat IS NOT NULL AND long IS NOT NULL\\n                AND merch_lat IS NOT NULL AND merch_long IS NOT NULL\\n            )\\n            SELECT CASE\\n                     WHEN km >= 1000 THEN 'outside_region'\\n                     ELSE 'inside_region'\\n                   END AS region_flag,\\n                   COUNT(*) AS n_tx,\\n                   AVG((is_fraud)::int) AS fraud_rate\\n            FROM dist\\n            GROUP BY 1\\n            ORDER BY 1;\\n        \"}, {'role': 'user', 'content': 'Which merchants have the highest number of fraudulent transactions?'}, {'role': 'assistant', 'content': '\\n            SELECT merchant,\\n                   COUNT(*) AS n_tx,\\n                   SUM((is_fraud)::int) AS fraud_tx,\\n                   (SUM((is_fraud)::int)::float / COUNT(*)) AS fraud_rate\\n            FROM public.fraud_data\\n            GROUP BY merchant\\n            HAVING COUNT(*) >= 100\\n            ORDER BY fraud_tx DESC\\n            LIMIT 20;\\n        '}, {'role': 'user', 'content': 'What share of total fraud value in H1 2023 was due to cross-border transactions (proxy via distance)?'}, {'role': 'assistant', 'content': \"\\n            WITH base AS (\\n              SELECT *,\\n                     6371 * acos(\\n                       cos(radians(lat)) * cos(radians(merch_lat)) *\\n                       cos(radians(merch_long) - radians(long)) +\\n                       sin(radians(lat)) * sin(radians(merch_lat))\\n                     ) AS km\\n              FROM public.fraud_data\\n              WHERE trans_date_trans_time >= DATE '2023-01-01'\\n                AND trans_date_trans_time <  DATE '2023-07-01'\\n                AND is_fraud = TRUE\\n            )\\n            SELECT SUM(CASE WHEN km >= 1000 THEN amt ELSE 0 END) / SUM(amt) AS share_cross_border\\n            FROM base;\\n        \"}, {'role': 'user', 'content': 'How many transactions are there?'}, {'role': 'assistant', 'content': '\\n            SELECT COUNT(*) AS total_tx\\n            FROM public.fraud_data;\\n        '}, {'role': 'user', 'content': 'How many unique card numbers and merchants?'}, {'role': 'assistant', 'content': '\\n            SELECT COUNT(DISTINCT cc_num) AS cards,\\n                   COUNT(DISTINCT merchant) AS merchants\\n            FROM public.fraud_data;\\n        '}, {'role': 'user', 'content': 'What is the monthly fraud rate over the last two years?'}]\n",
      "LLM Response: WITH bounds AS (\n",
      "                SELECT (MAX(trans_date_trans_time) - INTERVAL '2 years') AS start_dt\n",
      "                FROM public.fraud_data\n",
      "            )\n",
      "            SELECT date_trunc('month', trans_date_trans_time)::date AS month,\n",
      "                COUNT(*) AS n_tx,\n",
      "                SUM((is_fraud)::int) AS fraud_tx,\n",
      "                AVG((is_fraud)::int)::numeric(10,4) AS fraud_rate\n",
      "            FROM public.fraud_data f\n",
      "            JOIN bounds b ON f.trans_date_trans_time >= b.start_dt\n",
      "            GROUP BY 1\n",
      "            ORDER BY 1;\n",
      "Extracted SQL: WITH bounds AS (\n",
      "                SELECT (MAX(trans_date_trans_time) - INTERVAL '2 years') AS start_dt\n",
      "                FROM public.fraud_data\n",
      "            )\n",
      "            SELECT date_trunc('month', trans_date_trans_time)::date AS month,\n",
      "                COUNT(*) AS n_tx,\n",
      "                SUM((is_fraud)::int) AS fraud_tx,\n",
      "                AVG((is_fraud)::int)::numeric(10,4) AS fraud_rate\n",
      "            FROM public.fraud_data f\n",
      "            JOIN bounds b ON f.trans_date_trans_time >= b.start_dt\n",
      "            GROUP BY 1\n",
      "            ORDER BY 1;\n",
      "WITH bounds AS (\n",
      "                SELECT (MAX(trans_date_trans_time) - INTERVAL '2 years') AS start_dt\n",
      "                FROM public.fraud_data\n",
      "            )\n",
      "            SELECT date_trunc('month', trans_date_trans_time)::date AS month,\n",
      "                COUNT(*) AS n_tx,\n",
      "                SUM((is_fraud)::int) AS fraud_tx,\n",
      "                AVG((is_fraud)::int)::numeric(10,4) AS fraud_rate\n",
      "            FROM public.fraud_data f\n",
      "            JOIN bounds b ON f.trans_date_trans_time >= b.start_dt\n",
      "            GROUP BY 1\n",
      "            ORDER BY 1;\n",
      "        month    n_tx  fraud_tx fraud_rate\n",
      "0  2020-06-01   30058       133     0.0044\n",
      "1  2020-07-01   85848       321     0.0037\n",
      "2  2020-08-01   88759       415     0.0047\n",
      "3  2020-09-01   69533       340     0.0049\n",
      "4  2020-10-01   69348       384     0.0055\n",
      "5  2020-11-01   72635       294     0.0040\n",
      "6  2020-12-01  139538       258     0.0018\n"
     ]
    },
    {
     "data": {
      "text/plain": [
       "(\"WITH bounds AS (\\n                SELECT (MAX(trans_date_trans_time) - INTERVAL '2 years') AS start_dt\\n                FROM public.fraud_data\\n            )\\n            SELECT date_trunc('month', trans_date_trans_time)::date AS month,\\n                COUNT(*) AS n_tx,\\n                SUM((is_fraud)::int) AS fraud_tx,\\n                AVG((is_fraud)::int)::numeric(10,4) AS fraud_rate\\n            FROM public.fraud_data f\\n            JOIN bounds b ON f.trans_date_trans_time >= b.start_dt\\n            GROUP BY 1\\n            ORDER BY 1;\",\n",
       "         month    n_tx  fraud_tx fraud_rate\n",
       " 0  2020-06-01   30058       133     0.0044\n",
       " 1  2020-07-01   85848       321     0.0037\n",
       " 2  2020-08-01   88759       415     0.0047\n",
       " 3  2020-09-01   69533       340     0.0049\n",
       " 4  2020-10-01   69348       384     0.0055\n",
       " 5  2020-11-01   72635       294     0.0040\n",
       " 6  2020-12-01  139538       258     0.0018,\n",
       " None)"
      ]
     },
     "execution_count": 14,
     "metadata": {},
     "output_type": "execute_result"
    }
   ],
   "source": [
    "vanna.ask(\"What is the monthly fraud rate over the last two years?\", visualize=False, allow_llm_to_see_data=True, auto_train=False)"
   ]
  },
  {
   "cell_type": "code",
   "execution_count": 15,
   "id": "9e8e6836",
   "metadata": {},
   "outputs": [],
   "source": [
    "from pydantic import BaseModel, Field\n",
    "\n",
    "\n",
    "class Query(BaseModel):\n",
    "    query: str = Field(..., description=\"The input query to the agent by the user\")"
   ]
  },
  {
   "cell_type": "code",
   "execution_count": 16,
   "id": "d0c0ee6c",
   "metadata": {},
   "outputs": [],
   "source": [
    "@tool(args_schema=Query)\n",
    "def ask_about_credit_cards_fraud_theory(query: str) -> str:  \n",
    "    \"\"\"Useful for for retrieving information about credit card frauds theory.\"\"\"\n",
    "    return vector_store.similarity_search(query, k=5)\n",
    "\n",
    "@tool(args_schema=Query)\n",
    "def ask_about_credit_cards_fraud_data(query: str) -> str:  \n",
    "    \"\"\"Useful for for retrieving information about credit card frauds data.\"\"\"\n",
    "    return vanna.ask(query, visualize=False, allow_llm_to_see_data=True, auto_train=False)[1]\n",
    "\n",
    "agent = create_react_agent(\n",
    "    model=llm,  \n",
    "    tools=[ask_about_credit_cards_fraud_theory, ask_about_credit_cards_fraud_data],  \n",
    "    prompt=\"You are a helpful assistant\"  \n",
    ")"
   ]
  },
  {
   "cell_type": "code",
   "execution_count": 17,
   "id": "cbed4c38",
   "metadata": {},
   "outputs": [
    {
     "name": "stdout",
     "output_type": "stream",
     "text": [
      "SQL Prompt: [{'role': 'system', 'content': 'You are a PostgreSQL expert. Please help to generate a SQL query to answer the question. Your response should ONLY be based on the given context and follow the response guidelines and format instructions. \\n===Tables \\n\\nCREATE TABLE public.fraud_data (\\n\\ttrans_date_trans_time timestamp NULL,\\n\\tcc_num int8 NULL,\\n\\tmerchant text NULL,\\n\\tcategory text NULL,\\n\\tamt float8 NULL,\\n\\t\"first\" text NULL,\\n\\t\"last\" text NULL,\\n\\tgender text NULL,\\n\\tstreet text NULL,\\n\\tcity text NULL,\\n\\tstate text NULL,\\n\\tzip int8 NULL,\\n\\tlat float8 NULL,\\n\\tlong float8 NULL,\\n\\tcity_pop int8 NULL,\\n\\tjob text NULL,\\n\\tdob text NULL,\\n\\ttrans_num text NULL,\\n\\tunix_time int8 NULL,\\n\\tmerch_lat float8 NULL,\\n\\tmerch_long float8 NULL,\\n\\tis_fraud bool NULL\\n)\\n\\n\\n\\n===Additional Context \\n\\nThis is a simulated credit card transaction dataset containing legitimate and fraud transactions from the duration 1st Jan 2019 - 31st Dec 2020. It covers credit cards of 1000 customers doing transactions with a pool of 800 merchants.\\n\\n===Response Guidelines \\n1. If the provided context is sufficient, please generate a valid SQL query without any explanations for the question. \\n2. If the provided context is almost sufficient but requires knowledge of a specific string in a particular column, please generate an intermediate SQL query to find the distinct strings in that column. Prepend the query with a comment saying intermediate_sql \\n3. If the provided context is insufficient, please explain why it can\\'t be generated. \\n4. Please use the most relevant table(s). \\n5. If the question has been asked and answered before, please repeat the answer exactly as it was given before. \\n6. Ensure that the output SQL is PostgreSQL-compliant and executable, and free of syntax errors. \\n'}, {'role': 'user', 'content': 'Which merchant categories have the highest fraud rate?'}, {'role': 'assistant', 'content': '\\n            SELECT category,\\n                   COUNT(*) AS n_tx,\\n                   AVG((is_fraud)::int) AS fraud_rate\\n            FROM public.fraud_data\\n            GROUP BY category\\n            HAVING COUNT(*) >= 1000\\n            ORDER BY fraud_rate DESC\\n            LIMIT 20;\\n        '}, {'role': 'user', 'content': 'Which merchants have the highest number of fraudulent transactions?'}, {'role': 'assistant', 'content': '\\n            SELECT merchant,\\n                   COUNT(*) AS n_tx,\\n                   SUM((is_fraud)::int) AS fraud_tx,\\n                   (SUM((is_fraud)::int)::float / COUNT(*)) AS fraud_rate\\n            FROM public.fraud_data\\n            GROUP BY merchant\\n            HAVING COUNT(*) >= 100\\n            ORDER BY fraud_tx DESC\\n            LIMIT 20;\\n        '}, {'role': 'user', 'content': 'What is the daily fraud rate over the last two years?'}, {'role': 'assistant', 'content': \"\\n            WITH bounds AS (\\n                SELECT (MAX(trans_date_trans_time) - INTERVAL '2 years') AS start_dt\\n                FROM public.fraud_data\\n            )\\n            SELECT date_trunc('day', trans_date_trans_time)::date AS day,\\n                COUNT(*) AS n_tx,\\n                AVG((is_fraud)::int)::numeric(10,4) AS fraud_rate\\n            FROM public.fraud_data f\\n            JOIN bounds b ON f.trans_date_trans_time >= b.start_dt\\n            GROUP BY 1\\n            ORDER BY 1;\\n        \"}, {'role': 'user', 'content': 'What is the monthly fraud rate over the last two years?'}, {'role': 'assistant', 'content': \"WITH bounds AS (\\n                SELECT (MAX(trans_date_trans_time) - INTERVAL '2 years') AS start_dt\\n                FROM public.fraud_data\\n            )\\n            SELECT date_trunc('month', trans_date_trans_time)::date AS month,\\n                COUNT(*) AS n_tx,\\n                SUM((is_fraud)::int) AS fraud_tx,\\n                AVG((is_fraud)::int)::numeric(10,4) AS fraud_rate\\n            FROM public.fraud_data f\\n            JOIN bounds b ON f.trans_date_trans_time >= b.start_dt\\n            GROUP BY 1\\n            ORDER BY 1;\"}, {'role': 'user', 'content': 'What is the monthly fraud rate over the last two years?'}, {'role': 'assistant', 'content': \"\\n            WITH bounds AS (\\n                SELECT (MAX(trans_date_trans_time) - INTERVAL '2 years') AS start_dt\\n                FROM public.fraud_data\\n            )\\n            SELECT date_trunc('month', trans_date_trans_time)::date AS month,\\n                COUNT(*) AS n_tx,\\n                SUM((is_fraud)::int) AS fraud_tx,\\n                AVG((is_fraud)::int)::numeric(10,4) AS fraud_rate\\n            FROM public.fraud_data f\\n            JOIN bounds b ON f.trans_date_trans_time >= b.start_dt\\n            GROUP BY 1\\n            ORDER BY 1;\\n        \"}, {'role': 'user', 'content': 'What is the overall fraud rate?'}, {'role': 'assistant', 'content': '\\n            SELECT AVG((is_fraud)::int)::numeric(10,4) AS fraud_rate\\n            FROM public.fraud_data;\\n        '}, {'role': 'user', 'content': 'How many transactions are there?'}, {'role': 'assistant', 'content': '\\n            SELECT COUNT(*) AS total_tx\\n            FROM public.fraud_data;\\n        '}, {'role': 'user', 'content': 'How many unique card numbers and merchants?'}, {'role': 'assistant', 'content': '\\n            SELECT COUNT(DISTINCT cc_num) AS cards,\\n                   COUNT(DISTINCT merchant) AS merchants\\n            FROM public.fraud_data;\\n        '}, {'role': 'user', 'content': 'What share of total fraud value in H1 2023 was due to cross-border transactions (proxy via distance)?'}, {'role': 'assistant', 'content': \"\\n            WITH base AS (\\n              SELECT *,\\n                     6371 * acos(\\n                       cos(radians(lat)) * cos(radians(merch_lat)) *\\n                       cos(radians(merch_long) - radians(long)) +\\n                       sin(radians(lat)) * sin(radians(merch_lat))\\n                     ) AS km\\n              FROM public.fraud_data\\n              WHERE trans_date_trans_time >= DATE '2023-01-01'\\n                AND trans_date_trans_time <  DATE '2023-07-01'\\n                AND is_fraud = TRUE\\n            )\\n            SELECT SUM(CASE WHEN km >= 1000 THEN amt ELSE 0 END) / SUM(amt) AS share_cross_border\\n            FROM base;\\n        \"}, {'role': 'user', 'content': 'How much higher are fraud rates when the transaction counterpart is located far away (proxy for outside EEA)?'}, {'role': 'assistant', 'content': \"\\n            WITH dist AS (\\n              SELECT is_fraud,\\n                     6371 * acos(\\n                       cos(radians(lat)) * cos(radians(merch_lat)) *\\n                       cos(radians(merch_long) - radians(long)) +\\n                       sin(radians(lat)) * sin(radians(merch_lat))\\n                     ) AS km\\n              FROM public.fraud_data\\n              WHERE lat IS NOT NULL AND long IS NOT NULL\\n                AND merch_lat IS NOT NULL AND merch_long IS NOT NULL\\n            )\\n            SELECT CASE\\n                     WHEN km >= 1000 THEN 'outside_region'\\n                     ELSE 'inside_region'\\n                   END AS region_flag,\\n                   COUNT(*) AS n_tx,\\n                   AVG((is_fraud)::int) AS fraud_rate\\n            FROM dist\\n            GROUP BY 1\\n            ORDER BY 1;\\n        \"}, {'role': 'user', 'content': 'fraud count over the last week'}]\n",
      "LLM Response:             SELECT COUNT(*) AS fraud_count\n",
      "            FROM public.fraud_data\n",
      "            WHERE is_fraud = TRUE\n",
      "              AND trans_date_trans_time >= CURRENT_DATE - INTERVAL '7 days';\n",
      "Extracted SQL: SELECT COUNT(*) AS fraud_count\n",
      "            FROM public.fraud_data\n",
      "            WHERE is_fraud = TRUE\n",
      "              AND trans_date_trans_time >= CURRENT_DATE - INTERVAL '7 days';\n",
      "SELECT COUNT(*) AS fraud_count\n",
      "            FROM public.fraud_data\n",
      "            WHERE is_fraud = TRUE\n",
      "              AND trans_date_trans_time >= CURRENT_DATE - INTERVAL '7 days';\n",
      "   fraud_count\n",
      "0            0\n"
     ]
    },
    {
     "data": {
      "text/plain": [
       "'There were 0 reported cases of credit card fraud over the last week.'"
      ]
     },
     "execution_count": 17,
     "metadata": {},
     "output_type": "execute_result"
    }
   ],
   "source": [
    "# Run the agent\n",
    "response = agent.invoke(\n",
    "    {\"messages\": \n",
    "        [\n",
    "            {\"role\": \"user\", \"content\": \"how many fraud over the last week?\"},\n",
    "            # {\"role\": \"user\", \"content\": \"how fraud is committed worldwide?\"}\n",
    "        ]\n",
    "    }\n",
    ")\n",
    "\n",
    "response['messages'][-1].content"
   ]
  },
  {
   "cell_type": "code",
   "execution_count": 18,
   "id": "5555078b",
   "metadata": {},
   "outputs": [
    {
     "data": {
      "text/plain": [
       "'Fraud is committed worldwide through various methods, including lost or stolen cards (48%), identity theft (15%), skimming or cloning (14%), counterfeit cards (12%), mail intercept fraud (6%), and other methods (5%). Some of the high-risk countries for credit card fraud include Ukraine (19%), Indonesia (18.3%), Yugoslavia (17.8%), Turkey (9%), and Malaysia (5.9%). The methods used by fraudsters include application fraud, lost or stolen cards, account takeover, fake and counterfeit cards, merchant collusion, and triangulation.'"
      ]
     },
     "execution_count": 18,
     "metadata": {},
     "output_type": "execute_result"
    }
   ],
   "source": [
    "# Run the agent\n",
    "response = agent.invoke(\n",
    "    {\"messages\": \n",
    "        [\n",
    "            # {\"role\": \"user\", \"content\": \"how many fraud over the last week?\"},\n",
    "            {\"role\": \"user\", \"content\": \"how fraud is committed worldwide?\"}\n",
    "        ]\n",
    "    }\n",
    ")\n",
    "\n",
    "response['messages'][-1].content"
   ]
  },
  {
   "cell_type": "code",
   "execution_count": 20,
   "id": "823bb2e1",
   "metadata": {},
   "outputs": [
    {
     "name": "stdout",
     "output_type": "stream",
     "text": [
      "SQL Prompt: [{'role': 'system', 'content': 'You are a PostgreSQL expert. Please help to generate a SQL query to answer the question. Your response should ONLY be based on the given context and follow the response guidelines and format instructions. \\n===Tables \\n\\nCREATE TABLE public.fraud_data (\\n\\ttrans_date_trans_time timestamp NULL,\\n\\tcc_num int8 NULL,\\n\\tmerchant text NULL,\\n\\tcategory text NULL,\\n\\tamt float8 NULL,\\n\\t\"first\" text NULL,\\n\\t\"last\" text NULL,\\n\\tgender text NULL,\\n\\tstreet text NULL,\\n\\tcity text NULL,\\n\\tstate text NULL,\\n\\tzip int8 NULL,\\n\\tlat float8 NULL,\\n\\tlong float8 NULL,\\n\\tcity_pop int8 NULL,\\n\\tjob text NULL,\\n\\tdob text NULL,\\n\\ttrans_num text NULL,\\n\\tunix_time int8 NULL,\\n\\tmerch_lat float8 NULL,\\n\\tmerch_long float8 NULL,\\n\\tis_fraud bool NULL\\n)\\n\\n\\n\\n===Additional Context \\n\\nThis is a simulated credit card transaction dataset containing legitimate and fraud transactions from the duration 1st Jan 2019 - 31st Dec 2020. It covers credit cards of 1000 customers doing transactions with a pool of 800 merchants.\\n\\n===Response Guidelines \\n1. If the provided context is sufficient, please generate a valid SQL query without any explanations for the question. \\n2. If the provided context is almost sufficient but requires knowledge of a specific string in a particular column, please generate an intermediate SQL query to find the distinct strings in that column. Prepend the query with a comment saying intermediate_sql \\n3. If the provided context is insufficient, please explain why it can\\'t be generated. \\n4. Please use the most relevant table(s). \\n5. If the question has been asked and answered before, please repeat the answer exactly as it was given before. \\n6. Ensure that the output SQL is PostgreSQL-compliant and executable, and free of syntax errors. \\n'}, {'role': 'user', 'content': 'Which merchants have the highest number of fraudulent transactions?'}, {'role': 'assistant', 'content': '\\n            SELECT merchant,\\n                   COUNT(*) AS n_tx,\\n                   SUM((is_fraud)::int) AS fraud_tx,\\n                   (SUM((is_fraud)::int)::float / COUNT(*)) AS fraud_rate\\n            FROM public.fraud_data\\n            GROUP BY merchant\\n            HAVING COUNT(*) >= 100\\n            ORDER BY fraud_tx DESC\\n            LIMIT 20;\\n        '}, {'role': 'user', 'content': 'Which merchant categories have the highest fraud rate?'}, {'role': 'assistant', 'content': '\\n            SELECT category,\\n                   COUNT(*) AS n_tx,\\n                   AVG((is_fraud)::int) AS fraud_rate\\n            FROM public.fraud_data\\n            GROUP BY category\\n            HAVING COUNT(*) >= 1000\\n            ORDER BY fraud_rate DESC\\n            LIMIT 20;\\n        '}, {'role': 'user', 'content': 'What share of total fraud value in H1 2023 was due to cross-border transactions (proxy via distance)?'}, {'role': 'assistant', 'content': \"\\n            WITH base AS (\\n              SELECT *,\\n                     6371 * acos(\\n                       cos(radians(lat)) * cos(radians(merch_lat)) *\\n                       cos(radians(merch_long) - radians(long)) +\\n                       sin(radians(lat)) * sin(radians(merch_lat))\\n                     ) AS km\\n              FROM public.fraud_data\\n              WHERE trans_date_trans_time >= DATE '2023-01-01'\\n                AND trans_date_trans_time <  DATE '2023-07-01'\\n                AND is_fraud = TRUE\\n            )\\n            SELECT SUM(CASE WHEN km >= 1000 THEN amt ELSE 0 END) / SUM(amt) AS share_cross_border\\n            FROM base;\\n        \"}, {'role': 'user', 'content': 'How many transactions are there?'}, {'role': 'assistant', 'content': '\\n            SELECT COUNT(*) AS total_tx\\n            FROM public.fraud_data;\\n        '}, {'role': 'user', 'content': 'How much higher are fraud rates when the transaction counterpart is located far away (proxy for outside EEA)?'}, {'role': 'assistant', 'content': \"\\n            WITH dist AS (\\n              SELECT is_fraud,\\n                     6371 * acos(\\n                       cos(radians(lat)) * cos(radians(merch_lat)) *\\n                       cos(radians(merch_long) - radians(long)) +\\n                       sin(radians(lat)) * sin(radians(merch_lat))\\n                     ) AS km\\n              FROM public.fraud_data\\n              WHERE lat IS NOT NULL AND long IS NOT NULL\\n                AND merch_lat IS NOT NULL AND merch_long IS NOT NULL\\n            )\\n            SELECT CASE\\n                     WHEN km >= 1000 THEN 'outside_region'\\n                     ELSE 'inside_region'\\n                   END AS region_flag,\\n                   COUNT(*) AS n_tx,\\n                   AVG((is_fraud)::int) AS fraud_rate\\n            FROM dist\\n            GROUP BY 1\\n            ORDER BY 1;\\n        \"}, {'role': 'user', 'content': 'How many unique card numbers and merchants?'}, {'role': 'assistant', 'content': '\\n            SELECT COUNT(DISTINCT cc_num) AS cards,\\n                   COUNT(DISTINCT merchant) AS merchants\\n            FROM public.fraud_data;\\n        '}, {'role': 'user', 'content': 'What is the overall fraud rate?'}, {'role': 'assistant', 'content': '\\n            SELECT AVG((is_fraud)::int)::numeric(10,4) AS fraud_rate\\n            FROM public.fraud_data;\\n        '}, {'role': 'user', 'content': 'What is the daily fraud rate over the last two years?'}, {'role': 'assistant', 'content': \"\\n            WITH bounds AS (\\n                SELECT (MAX(trans_date_trans_time) - INTERVAL '2 years') AS start_dt\\n                FROM public.fraud_data\\n            )\\n            SELECT date_trunc('day', trans_date_trans_time)::date AS day,\\n                COUNT(*) AS n_tx,\\n                AVG((is_fraud)::int)::numeric(10,4) AS fraud_rate\\n            FROM public.fraud_data f\\n            JOIN bounds b ON f.trans_date_trans_time >= b.start_dt\\n            GROUP BY 1\\n            ORDER BY 1;\\n        \"}, {'role': 'user', 'content': 'What is the monthly fraud rate over the last two years?'}, {'role': 'assistant', 'content': \"\\n            WITH bounds AS (\\n                SELECT (MAX(trans_date_trans_time) - INTERVAL '2 years') AS start_dt\\n                FROM public.fraud_data\\n            )\\n            SELECT date_trunc('month', trans_date_trans_time)::date AS month,\\n                COUNT(*) AS n_tx,\\n                SUM((is_fraud)::int) AS fraud_tx,\\n                AVG((is_fraud)::int)::numeric(10,4) AS fraud_rate\\n            FROM public.fraud_data f\\n            JOIN bounds b ON f.trans_date_trans_time >= b.start_dt\\n            GROUP BY 1\\n            ORDER BY 1;\\n        \"}, {'role': 'user', 'content': 'What is the monthly fraud rate over the last two years?'}, {'role': 'assistant', 'content': \"WITH bounds AS (\\n                SELECT (MAX(trans_date_trans_time) - INTERVAL '2 years') AS start_dt\\n                FROM public.fraud_data\\n            )\\n            SELECT date_trunc('month', trans_date_trans_time)::date AS month,\\n                COUNT(*) AS n_tx,\\n                SUM((is_fraud)::int) AS fraud_tx,\\n                AVG((is_fraud)::int)::numeric(10,4) AS fraud_rate\\n            FROM public.fraud_data f\\n            JOIN bounds b ON f.trans_date_trans_time >= b.start_dt\\n            GROUP BY 1\\n            ORDER BY 1;\"}, {'role': 'user', 'content': 'number of fraud committed worldwide'}]\n",
      "LLM Response:             SELECT COUNT(*) AS fraud_count\n",
      "            FROM public.fraud_data\n",
      "            WHERE is_fraud = TRUE;\n",
      "        \n",
      "Extracted SQL: SELECT COUNT(*) AS fraud_count\n",
      "            FROM public.fraud_data\n",
      "            WHERE is_fraud = TRUE;\n",
      "SELECT COUNT(*) AS fraud_count\n",
      "            FROM public.fraud_data\n",
      "            WHERE is_fraud = TRUE;\n",
      "   fraud_count\n",
      "0         2145\n"
     ]
    },
    {
     "data": {
      "text/plain": [
       "'Fraud is committed worldwide through various methods, including lost or stolen cards (48%), identity theft (15%), skimming or cloning (14%), counterfeit cards (12%), and mail intercept fraud (6%). The most common types of credit card fraud include application fraud, lost or stolen cards, account takeover, fake and counterfeit cards, merchant collusion, and triangulation. \\n\\nAccording to available data, the number of fraud committed worldwide is significant, with countries like Ukraine, Indonesia, Yugoslavia, Turkey, and Malaysia being among the high-risk countries facing credit card fraud.'"
      ]
     },
     "execution_count": 20,
     "metadata": {},
     "output_type": "execute_result"
    }
   ],
   "source": [
    "# Run the agent\n",
    "response = agent.invoke(\n",
    "    {\"messages\": \n",
    "        [\n",
    "            # {\"role\": \"user\", \"content\": \"how many fraud over the last week?\"},\n",
    "            {\"role\": \"user\", \"content\": \"how fraud is committed worldwide? and how many fraud committed?\"}\n",
    "        ]\n",
    "    }\n",
    ")\n",
    "\n",
    "response['messages'][-1].content"
   ]
  },
  {
   "cell_type": "code",
   "execution_count": 21,
   "id": "96b2c675",
   "metadata": {},
   "outputs": [
    {
     "data": {
      "text/plain": [
       "{'messages': [HumanMessage(content='how fraud is committed worldwide? and how many fraud committed?', additional_kwargs={}, response_metadata={}, id='a1d62162-27f8-4504-8c32-3448271b287b'),\n",
       "  AIMessage(content='', additional_kwargs={'tool_calls': [{'id': 'sbk4t262r', 'function': {'arguments': '{\"query\":\"how fraud is committed worldwide\"}', 'name': 'ask_about_credit_cards_fraud_theory'}, 'type': 'function'}, {'id': 'ea6v3hg3w', 'function': {'arguments': '{\"query\":\"number of fraud committed worldwide\"}', 'name': 'ask_about_credit_cards_fraud_data'}, 'type': 'function'}]}, response_metadata={'token_usage': {'completion_tokens': 62, 'prompt_tokens': 766, 'total_tokens': 828, 'completion_time': 0.066765013, 'prompt_time': 0.036258625, 'queue_time': 0.208492064, 'total_time': 0.103023638}, 'model_name': 'meta-llama/llama-4-maverick-17b-128e-instruct', 'system_fingerprint': 'fp_c527aa4474', 'service_tier': 'on_demand', 'finish_reason': 'tool_calls', 'logprobs': None}, id='run--ea48d34b-1c1d-4c80-bfd5-8ab37b7e9df3-0', tool_calls=[{'name': 'ask_about_credit_cards_fraud_theory', 'args': {'query': 'how fraud is committed worldwide'}, 'id': 'sbk4t262r', 'type': 'tool_call'}, {'name': 'ask_about_credit_cards_fraud_data', 'args': {'query': 'number of fraud committed worldwide'}, 'id': 'ea6v3hg3w', 'type': 'tool_call'}], usage_metadata={'input_tokens': 766, 'output_tokens': 62, 'total_tokens': 828}),\n",
       "  ToolMessage(content='[Document(metadata={\\'source\\': \\'..\\\\\\\\data\\\\\\\\txt\\\\\\\\Understanding Credit Cards Fraud.txt\\', \\'_id\\': \\'516965eb-da60-4e81-a433-f245b16001b5\\', \\'_collection_name\\': \\'my_documents\\'}, page_content=\\'**OVERVIEW\\\\n\\\\n**\\\\n\\\\nINTRODUCTION .......................................................1\\\\n\\\\nPURPOSE OF THIS PAPER...........................................1\\\\n\\\\nCURRENT STATE OF THE INDUSTRY..............................2\\\\n\\\\nHOW FRAUD IS COMMITTED WORLDWIDE?......................2\\\\n\\\\n**FRAUD TECHNIQUES\\\\n\\\\n**.......................................................3\\\\n\\\\nCARD RELATED FRAUDS.............................................4\\\\n\\\\nAPPLICATION FRAUD...............................................4\\\\n\\\\nLOST/STOLEN CARDS..................................................4\\\\n\\\\nACCOUNT TAKEOVER................................................4\\\\n\\\\nFAKE AND COUNTERFEIT CARDS...............................4\\\\n\\\\nMERCHANT RELATED FRAUDS......................................5\\\\n\\\\nMERCHANT COLLUSION.............................................5\\\\n\\\\nTRIANGULATION........................................................5\\\\n\\\\nINTERNET RELATED FRAUDS........................................5\\\\n\\\\n**IMPACT OF CREDIT CARD FRAUDS\\\\n\\\\n**..................................6\\'), Document(metadata={\\'source\\': \\'..\\\\\\\\data\\\\\\\\txt\\\\\\\\Understanding Credit Cards Fraud.txt\\', \\'_id\\': \\'e8bead1e-730b-4223-8cac-55375db851ab\\', \\'_collection_name\\': \\'my_documents\\'}, page_content=\\'Illegal or unauthorized use of an account for personal gain.\\\\n\\\\nMisrepresentation of account information to obtain goods and/or services.\\\\n\\\\n**Purpose of this Paper\\\\n\\\\n**\\\\n\\\\nThe purpose of this white paper is to study:\\\\n\\\\nThe state of the credit card industry.\\\\n\\\\nDifferent types of frauds.\\\\n\\\\nHow fraudsters attempt to take advantage of loopholes.\\\\n\\\\nThe impact of credit card fraud on cardholders, merchants, issuers.\\\\n\\\\nHow a comprehensive fraud detection system could help maintain the cost of detecting fraud.\\\\n\\\\nLosses due to fraud, under manageable levels.\\'), Document(metadata={\\'source\\': \\'..\\\\\\\\data\\\\\\\\txt\\\\\\\\Understanding Credit Cards Fraud.txt\\', \\'_id\\': \\'31dd4555-81c0-43ed-a7d2-fdb9039f02b8\\', \\'_collection_name\\': \\'my_documents\\'}, page_content=\\'It also highlights the advantages of using neural networks, such as their ability to learn from past data and improve results over time.\\\\n\\\\nSection 3: Biometrics**\\\\n\\\\nThis section introduces biometrics as a fraud prevention technique that records unique characteristics of cardholders, such as fingerprints or signatures.\\\\n\\\\nIt explains how biometrics can be used to verify the identity of cardholders and prevent fraudulent transactions.\\'), Document(metadata={\\'source\\': \\'..\\\\\\\\data\\\\\\\\txt\\\\\\\\Understanding Credit Cards Fraud.txt\\', \\'_id\\': \\'17371ac5-7279-4b25-a07d-7ffc93de3aaa\\', \\'_collection_name\\': \\'my_documents\\'}, page_content=\\'Table 1 summarizes the modus operandi for credit card frauds and their percentage of occurrence.\\\\n\\\\nMethod: Lost or stolen card\\\\n\\\\nPercentage: 48%\\\\n\\\\nMethod: Identity theft\\\\n\\\\nPercentage: 15%\\\\n\\\\nMethod: Skimming (or cloning)\\\\n\\\\nPercentage: 14%\\\\n\\\\nMethod: Counterfeit card\\\\n\\\\nPercentage: 12%\\\\n\\\\nMethod: Mail intercept fraud\\\\n\\\\nPercentage: 6%\\\\n\\\\nMethod: Other\\\\n\\\\nPercentage: 5%\\\\n\\\\nAmongst the high risk countries facing Credit Card Fraud menace, Ukraine tops the list with staggering 19% fraud rate closely followed by Indonesia at 18.3% fraud rate.\\\\n\\\\nAlso in the list of high risk countries are Yugoslavia (17.8%), Turkey (9%) and Malaysia (5.9%).\\\\n\\\\nSurprisingly United States, with its high number Credit Card transactions, has a minimum fraud rate.\\'), Document(metadata={\\'source\\': \\'..\\\\\\\\data\\\\\\\\txt\\\\\\\\Understanding Credit Cards Fraud.txt\\', \\'_id\\': \\'59013e6c-421f-453c-9c37-076b990ed36b\\', \\'_collection_name\\': \\'my_documents\\'}, page_content=\\'\"Understanding Credit Card Frauds\\\\n\\\\nCard Related Frauds\\\\n\\\\nAPPLICATION FRAUD**\\\\n\\\\nThis type of fraud occurs when a person falsifies an application to acquire a credit card. Application fraud can be committed in three ways:\\\\n\\\\nAssumed identity, where an individual illegally obtains personal information of another individual and opens accounts in his or her name, using partially legitimate information.\\\\n\\\\nFinancial fraud, where an individual provides false information about his or her financial status to acquire credit.\\\\n\\\\nNot\\\\n\\\\nreceived items (NRIs) also called postal interceptions occur when a card is stolen from the postal service before it reaches its owner\\\\\\'s destination.\\\\n\\\\nLOST / STOLEN CARDS**\\')]', name='ask_about_credit_cards_fraud_theory', id='c99c293a-7039-4116-8856-ef975877161c', tool_call_id='sbk4t262r'),\n",
       "  ToolMessage(content='   fraud_count\\n0         2145', name='ask_about_credit_cards_fraud_data', id='5bb73f7e-631d-4d08-b4a9-16148d6a32bd', tool_call_id='ea6v3hg3w'),\n",
       "  AIMessage(content='Fraud is committed worldwide through various methods, including lost or stolen cards (48%), identity theft (15%), skimming or cloning (14%), counterfeit cards (12%), and mail intercept fraud (6%). The most common types of credit card fraud include application fraud, lost or stolen cards, account takeover, fake and counterfeit cards, merchant collusion, and triangulation. \\n\\nAccording to available data, the number of fraud committed worldwide is significant, with countries like Ukraine, Indonesia, Yugoslavia, Turkey, and Malaysia being among the high-risk countries facing credit card fraud.', additional_kwargs={}, response_metadata={'token_usage': {'completion_tokens': 116, 'prompt_tokens': 1842, 'total_tokens': 1958, 'completion_time': 0.246594961, 'prompt_time': 0.054482105, 'queue_time': 0.072641125, 'total_time': 0.301077066}, 'model_name': 'meta-llama/llama-4-maverick-17b-128e-instruct', 'system_fingerprint': 'fp_c527aa4474', 'service_tier': 'on_demand', 'finish_reason': 'stop', 'logprobs': None}, id='run--e4a488c2-0871-499b-b85e-6c5aaa360464-0', usage_metadata={'input_tokens': 1842, 'output_tokens': 116, 'total_tokens': 1958})]}"
      ]
     },
     "execution_count": 21,
     "metadata": {},
     "output_type": "execute_result"
    }
   ],
   "source": [
    "response"
   ]
  }
 ],
 "metadata": {
  "kernelspec": {
   "display_name": "llm-projects",
   "language": "python",
   "name": "python3"
  },
  "language_info": {
   "codemirror_mode": {
    "name": "ipython",
    "version": 3
   },
   "file_extension": ".py",
   "mimetype": "text/x-python",
   "name": "python",
   "nbconvert_exporter": "python",
   "pygments_lexer": "ipython3",
   "version": "3.12.11"
  }
 },
 "nbformat": 4,
 "nbformat_minor": 5
}
