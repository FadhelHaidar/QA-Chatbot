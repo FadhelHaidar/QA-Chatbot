{
 "cells": [
  {
   "cell_type": "code",
   "execution_count": 1,
   "id": "29acd528",
   "metadata": {},
   "outputs": [],
   "source": [
    "import sys\n",
    "\n",
    "sys.path.append('../')"
   ]
  },
  {
   "cell_type": "code",
   "execution_count": 2,
   "id": "2ff5f6df",
   "metadata": {},
   "outputs": [],
   "source": [
    "from langchain_groq import ChatGroq\n",
    "from ragas.llms import LangchainLLMWrapper\n",
    "from langchain.chat_models import init_chat_model\n",
    "\n",
    "langchain_llm = init_chat_model(model=\"groq:meta-llama/llama-4-maverick-17b-128e-instruct\")\n",
    "evaluator_llm = LangchainLLMWrapper(langchain_llm=langchain_llm)\n",
    "# evaluator_llm = LangchainLLMWrapper(langchain_llm=ChatGroq(model=\"meta-llama/llama-4-maverick-17b-128e-instruct\"))\n"
   ]
  },
  {
   "cell_type": "code",
   "execution_count": 3,
   "id": "6d859172",
   "metadata": {},
   "outputs": [],
   "source": [
    "# from langchain_huggingface import HuggingFaceEmbeddings\n",
    "# from ragas.embeddings import LangchainEmbeddingsWrapper\n",
    "\n",
    "# hf_embeddings = HuggingFaceEmbeddings(model=\"Qwen/Qwen3-Embedding-0.6B\")\n",
    "# evaluator_embeddings = LangchainEmbeddingsWrapper(hf_embeddings)"
   ]
  },
  {
   "cell_type": "code",
   "execution_count": 4,
   "id": "533af1bc",
   "metadata": {},
   "outputs": [],
   "source": [
    "from ragas.dataset_schema import SingleTurnSample \n",
    "from ragas.metrics import Faithfulness\n",
    "\n",
    "scorer = Faithfulness(llm=evaluator_llm)"
   ]
  },
  {
   "cell_type": "code",
   "execution_count": 19,
   "id": "5f214657",
   "metadata": {},
   "outputs": [],
   "source": [
    "from app.config import get_vanna, get_llm\n",
    "\n",
    "vanna = get_vanna()"
   ]
  },
  {
   "cell_type": "code",
   "execution_count": 20,
   "id": "96559575",
   "metadata": {},
   "outputs": [],
   "source": [
    "test_data = {\n",
    "  \"user_query\": \"How are cardholders affected by fraud compared to merchants and banks?\",\n",
    "  \"response\": \"Cardholders, merchants, and banks are all affected by credit card fraud, but in different ways. Cardholders may experience financial loss, damage to their credit score, and emotional distress. Merchants may lose sales, incur chargeback fees, and face reputational damage. Banks and issuers may absorb financial losses, incur costs associated with investigating and resolving fraud cases, and potentially face regulatory penalties.\\n\\nTo better understand the impact on cardholders, we can look at data from the credit card fraud database. For instance, the average financial loss per cardholder due to credit card fraud is around $528. \\n\\nTo gain more insights, investigators could query the database to analyze trends in fraud types, merchant categories, or geographical regions. This information can help identify areas where cardholders are most vulnerable and inform strategies to mitigate these risks.\",\n",
    "  \"chunks\": [\n",
    "    {\n",
    "      \"id\": None,\n",
    "      \"metadata\": {\n",
    "        \"source\": \"..\\\\data\\\\txt\\\\Understanding Credit Cards Fraud.txt\",\n",
    "        \"_id\": \"901517c5-4f06-415a-ae20-f2a575d0bda9\",\n",
    "        \"_collection_name\": \"my_documents\"\n",
    "      },\n",
    "      \"page_content\": \"The image also includes a section titled \\\"IMPACT OF CREDIT CARD FRAUDS\\\" and a subsection titled \\\"Impact on Cardholders.\\\" The main points discussed in these sections are:\\n\\n**Impact of Credit Card Frauds\\n\\n**: Unfortunately, occurrences of credit\\n\\ncard frauds have only shown an upward trend so far. The fraudulent activity on a card affects everybody, i.e., the cardholder, the merchant, the acquirer, as well as the issuer. This section analyses the impact that credit\\n\\ncard frauds have on all the players involved in transacting business through credit cards.\\n\\n**Impact on Cardholders\\n\\n**: It's interesting to note that cardholders are the least impacted party due to fraud in credit\\n\\ncard transactions as consumer liability is limited for credit\\n\\ncard transactions by the legislation prevailing in most countries. This is true for both card\\n\\npresent as well as card\\n\\nnot\",\n",
    "      \"type\": \"Document\"\n",
    "    },\n",
    "    {\n",
    "      \"id\": None,\n",
    "      \"metadata\": {\n",
    "        \"source\": \"..\\\\data\\\\txt\\\\Understanding Credit Cards Fraud.txt\",\n",
    "        \"_id\": \"07d06acf-46c1-42c8-a502-98e59e9c5ecc\",\n",
    "        \"_collection_name\": \"my_documents\"\n",
    "      },\n",
    "      \"page_content\": \"**Impact of Fraud on Merchants**\\n\\nThis section explains how merchants are affected by credit card fraud, particularly in card\\n\\nnot\\n\\npresent transactions.\\n\\nIt highlights that merchants bear the full liability for losses due to fraud and outlines the costs associated with fraudulent transactions, including: 1.  Cost of goods sold 2.  Shipping cost 3.  Card association fees 4.  Merchant bank fees 5.  Administrative cost 6.  Loss of Reputation\\n\\n**Impact of Fraud on Banks (Issuer/Acquirer)**\\n\\nThis section discusses the impact of fraud on banks, both issuers and acquirers.\\n\\nIt notes that while the issuer/acquirer bears the direct costs of fraud, there are also indirect costs, such as administrative and manpower costs, that are borne by them.\\n\\nThe section emphasizes that issuers and acquirers must make huge investments in preventing fraud by deploying sophisticated IT systems for detection.\",\n",
    "      \"type\": \"Document\"\n",
    "    },\n",
    "    {\n",
    "      \"id\": None,\n",
    "      \"metadata\": {\n",
    "        \"source\": \"..\\\\data\\\\txt\\\\Understanding Credit Cards Fraud.txt\",\n",
    "        \"_id\": \"e8bead1e-730b-4223-8cac-55375db851ab\",\n",
    "        \"_collection_name\": \"my_documents\"\n",
    "      },\n",
    "      \"page_content\": \"Illegal or unauthorized use of an account for personal gain.\\n\\nMisrepresentation of account information to obtain goods and/or services.\\n\\n**Purpose of this Paper\\n\\n**\\n\\nThe purpose of this white paper is to study:\\n\\nThe state of the credit card industry.\\n\\nDifferent types of frauds.\\n\\nHow fraudsters attempt to take advantage of loopholes.\\n\\nThe impact of credit card fraud on cardholders, merchants, issuers.\\n\\nHow a comprehensive fraud detection system could help maintain the cost of detecting fraud.\\n\\nLosses due to fraud, under manageable levels.\",\n",
    "      \"type\": \"Document\"\n",
    "    },\n",
    "    {\n",
    "      \"id\": None,\n",
    "      \"metadata\": {\n",
    "        \"source\": \"..\\\\data\\\\txt\\\\Understanding Credit Cards Fraud.txt\",\n",
    "        \"_id\": \"0acd7ca6-f134-44c7-b2ca-f8bc8a40d08d\",\n",
    "        \"_collection_name\": \"my_documents\"\n",
    "      },\n",
    "      \"page_content\": \"card transactions as consumer liability is limited for credit\\n\\ncard transactions by the legislation prevailing in most countries. This is true for both card\\n\\npresent as well as card\\n\\nnot\\n\\npresent scenarios. Many banks even have their own standards that limit the consumer's liability to a greater extent. They also have a cardholder protection policy in place that covers for most losses of the cardholder. The cardholder has to just report suspicious charges to the issuing bank, which in turn investigates the issue with the acquirer and merchant, and processes chargeback for the disputed amount.\\n\\nThe image appears to be a page from a document or report created by Tata Consultancy Services (TCS), as indicated by the logo and text at the bottom of the page.The image presents a page from a document titled \\\"Understanding Credit Card Frauds,\\\" which is part of a larger report or presentation. The page is divided into two main sections: \\\"Impact of Fraud on Merchants\\\" and \\\"Impact of Fraud on Banks (Issuer/Acquirer).\\\"\",\n",
    "      \"type\": \"Document\"\n",
    "    },\n",
    "    {\n",
    "      \"id\": None,\n",
    "      \"metadata\": {\n",
    "        \"source\": \"..\\\\data\\\\txt\\\\Understanding Credit Cards Fraud.txt\",\n",
    "        \"_id\": \"31dd4555-81c0-43ed-a7d2-fdb9039f02b8\",\n",
    "        \"_collection_name\": \"my_documents\"\n",
    "      },\n",
    "      \"page_content\": \"It also highlights the advantages of using neural networks, such as their ability to learn from past data and improve results over time.\\n\\nSection 3: Biometrics**\\n\\nThis section introduces biometrics as a fraud prevention technique that records unique characteristics of cardholders, such as fingerprints or signatures.\\n\\nIt explains how biometrics can be used to verify the identity of cardholders and prevent fraudulent transactions.\",\n",
    "      \"type\": \"Document\"\n",
    "    }\n",
    "  ],\n",
    "  \"sql\": [\n",
    "    \"SELECT AVG(amt) AS avg_loss_per_cardholder\\n            FROM public.fraud_data\\n            WHERE is_fraud = TRUE;\"\n",
    "  ],\n",
    "  \"error\": None\n",
    "}\n",
    "\n",
    "ctx = []\n",
    "\n",
    "for chunk in test_data[\"chunks\"]:\n",
    "    ctx.append(chunk['page_content'])\n",
    "\n",
    "for sql_query in test_data['sql']:\n",
    "    ctx.append(vanna.run_sql(sql_query).to_markdown())"
   ]
  },
  {
   "cell_type": "code",
   "execution_count": 21,
   "id": "f9367c69",
   "metadata": {},
   "outputs": [],
   "source": [
    "# sample = SingleTurnSample(\n",
    "#         user_input=test_data['user_query'],\n",
    "#         response=test_data['response'],\n",
    "#         retrieved_contexts=ctx\n",
    "#     )\n",
    "# await scorer.single_turn_ascore(sample)\n"
   ]
  },
  {
   "cell_type": "code",
   "execution_count": 22,
   "id": "6894140f",
   "metadata": {},
   "outputs": [],
   "source": [
    "async def evaluate_response(\n",
    "    user_input: str, \n",
    "    response: str, \n",
    "    retrieved_contexts: list,\n",
    "    sql_list: list\n",
    "\n",
    "):  \n",
    "\n",
    "    context = []\n",
    "    if retrieved_contexts:\n",
    "        print(\"retrieved_contexts\", retrieved_contexts)\n",
    "        for ctx in retrieved_contexts:\n",
    "            context.append(ctx['page_content'])\n",
    "\n",
    "    if sql_list:\n",
    "        for sql in sql_list:\n",
    "            context.append(vanna.run_sql(sql).to_markdown())\n",
    "\n",
    "    llm = LangchainLLMWrapper(get_llm())\n",
    "    scorer = Faithfulness(llm=llm)\n",
    "\n",
    "    sample = SingleTurnSample(\n",
    "        user_input=user_input,\n",
    "        response=response,\n",
    "        retrieved_contexts=context\n",
    "    )\n",
    "\n",
    "    return await scorer.single_turn_ascore(sample)"
   ]
  },
  {
   "cell_type": "code",
   "execution_count": 23,
   "id": "e750b0fa",
   "metadata": {},
   "outputs": [],
   "source": [
    "# from app.eval import evaluate_response"
   ]
  },
  {
   "cell_type": "code",
   "execution_count": 24,
   "id": "796f1254",
   "metadata": {},
   "outputs": [
    {
     "name": "stdout",
     "output_type": "stream",
     "text": [
      "retrieved_contexts [{'id': None, 'metadata': {'source': '..\\\\data\\\\txt\\\\Understanding Credit Cards Fraud.txt', '_id': '901517c5-4f06-415a-ae20-f2a575d0bda9', '_collection_name': 'my_documents'}, 'page_content': 'The image also includes a section titled \"IMPACT OF CREDIT CARD FRAUDS\" and a subsection titled \"Impact on Cardholders.\" The main points discussed in these sections are:\\n\\n**Impact of Credit Card Frauds\\n\\n**: Unfortunately, occurrences of credit\\n\\ncard frauds have only shown an upward trend so far. The fraudulent activity on a card affects everybody, i.e., the cardholder, the merchant, the acquirer, as well as the issuer. This section analyses the impact that credit\\n\\ncard frauds have on all the players involved in transacting business through credit cards.\\n\\n**Impact on Cardholders\\n\\n**: It\\'s interesting to note that cardholders are the least impacted party due to fraud in credit\\n\\ncard transactions as consumer liability is limited for credit\\n\\ncard transactions by the legislation prevailing in most countries. This is true for both card\\n\\npresent as well as card\\n\\nnot', 'type': 'Document'}, {'id': None, 'metadata': {'source': '..\\\\data\\\\txt\\\\Understanding Credit Cards Fraud.txt', '_id': '07d06acf-46c1-42c8-a502-98e59e9c5ecc', '_collection_name': 'my_documents'}, 'page_content': '**Impact of Fraud on Merchants**\\n\\nThis section explains how merchants are affected by credit card fraud, particularly in card\\n\\nnot\\n\\npresent transactions.\\n\\nIt highlights that merchants bear the full liability for losses due to fraud and outlines the costs associated with fraudulent transactions, including: 1.  Cost of goods sold 2.  Shipping cost 3.  Card association fees 4.  Merchant bank fees 5.  Administrative cost 6.  Loss of Reputation\\n\\n**Impact of Fraud on Banks (Issuer/Acquirer)**\\n\\nThis section discusses the impact of fraud on banks, both issuers and acquirers.\\n\\nIt notes that while the issuer/acquirer bears the direct costs of fraud, there are also indirect costs, such as administrative and manpower costs, that are borne by them.\\n\\nThe section emphasizes that issuers and acquirers must make huge investments in preventing fraud by deploying sophisticated IT systems for detection.', 'type': 'Document'}, {'id': None, 'metadata': {'source': '..\\\\data\\\\txt\\\\Understanding Credit Cards Fraud.txt', '_id': 'e8bead1e-730b-4223-8cac-55375db851ab', '_collection_name': 'my_documents'}, 'page_content': 'Illegal or unauthorized use of an account for personal gain.\\n\\nMisrepresentation of account information to obtain goods and/or services.\\n\\n**Purpose of this Paper\\n\\n**\\n\\nThe purpose of this white paper is to study:\\n\\nThe state of the credit card industry.\\n\\nDifferent types of frauds.\\n\\nHow fraudsters attempt to take advantage of loopholes.\\n\\nThe impact of credit card fraud on cardholders, merchants, issuers.\\n\\nHow a comprehensive fraud detection system could help maintain the cost of detecting fraud.\\n\\nLosses due to fraud, under manageable levels.', 'type': 'Document'}, {'id': None, 'metadata': {'source': '..\\\\data\\\\txt\\\\Understanding Credit Cards Fraud.txt', '_id': '0acd7ca6-f134-44c7-b2ca-f8bc8a40d08d', '_collection_name': 'my_documents'}, 'page_content': 'card transactions as consumer liability is limited for credit\\n\\ncard transactions by the legislation prevailing in most countries. This is true for both card\\n\\npresent as well as card\\n\\nnot\\n\\npresent scenarios. Many banks even have their own standards that limit the consumer\\'s liability to a greater extent. They also have a cardholder protection policy in place that covers for most losses of the cardholder. The cardholder has to just report suspicious charges to the issuing bank, which in turn investigates the issue with the acquirer and merchant, and processes chargeback for the disputed amount.\\n\\nThe image appears to be a page from a document or report created by Tata Consultancy Services (TCS), as indicated by the logo and text at the bottom of the page.The image presents a page from a document titled \"Understanding Credit Card Frauds,\" which is part of a larger report or presentation. The page is divided into two main sections: \"Impact of Fraud on Merchants\" and \"Impact of Fraud on Banks (Issuer/Acquirer).\"', 'type': 'Document'}, {'id': None, 'metadata': {'source': '..\\\\data\\\\txt\\\\Understanding Credit Cards Fraud.txt', '_id': '31dd4555-81c0-43ed-a7d2-fdb9039f02b8', '_collection_name': 'my_documents'}, 'page_content': 'It also highlights the advantages of using neural networks, such as their ability to learn from past data and improve results over time.\\n\\nSection 3: Biometrics**\\n\\nThis section introduces biometrics as a fraud prevention technique that records unique characteristics of cardholders, such as fingerprints or signatures.\\n\\nIt explains how biometrics can be used to verify the identity of cardholders and prevent fraudulent transactions.', 'type': 'Document'}]\n"
     ]
    },
    {
     "data": {
      "text/plain": [
       "0.5652173913043478"
      ]
     },
     "execution_count": 24,
     "metadata": {},
     "output_type": "execute_result"
    }
   ],
   "source": [
    "await evaluate_response(\n",
    "    user_input=test_data[\"user_query\"], \n",
    "    response=test_data[\"response\"], \n",
    "    retrieved_contexts=test_data[\"chunks\"], \n",
    "    sql_list=test_data[\"sql\"]\n",
    ")"
   ]
  }
 ],
 "metadata": {
  "kernelspec": {
   "display_name": "llm-projects",
   "language": "python",
   "name": "python3"
  },
  "language_info": {
   "codemirror_mode": {
    "name": "ipython",
    "version": 3
   },
   "file_extension": ".py",
   "mimetype": "text/x-python",
   "name": "python",
   "nbconvert_exporter": "python",
   "pygments_lexer": "ipython3",
   "version": "3.12.11"
  }
 },
 "nbformat": 4,
 "nbformat_minor": 5
}
